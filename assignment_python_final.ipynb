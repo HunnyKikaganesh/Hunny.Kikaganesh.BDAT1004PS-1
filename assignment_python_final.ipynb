{
 "cells": [
  {
   "cell_type": "markdown",
   "id": "6ff47c75",
   "metadata": {},
   "source": [
    "### Problem Set 1\n",
    "\n",
    "#### Question 6 Python\n",
    "\n",
    "You can turn a word into pig-Latin using the following two rules(simplified):\n",
    "- If a word starts with a consonant, move that letter to the end and append 'ap'. For example, 'happy' becomes 'appyhay' and 'pencil' becomes 'encilpay'.\n",
    "- If the word starts with a vowel, simply append 'way' to the end of the word. For example, 'enter' becomes 'enterway' and 'other' becomes 'otherway'. For our purposes, there are 5 vowels: a,e,i,o,u (so we count y as a consonant). Write a function pig() that takes a word (i.e. a string) as input and returns its pig-Latin form. Your function should still work if the input word contains upper case characters. Your output should always be the lowercase however."
   ]
  },
  {
   "cell_type": "markdown",
   "id": "8519d423",
   "metadata": {},
   "source": [
    "#### Solution 6 Python"
   ]
  },
  {
   "cell_type": "code",
   "execution_count": null,
   "id": "174eb337",
   "metadata": {},
   "outputs": [],
   "source": [
    "def pig():\n",
    "    y = str(input(\"Input Sentence:\"))\n",
    "    y = y.lower()\n",
    "    words = y.split()\n",
    "    vowels = (\"a\",\"e\",\"i\",\"o\",\"u\")\n",
    "    if y[0] in vowels:\n",
    "        for word in words:\n",
    "            print(word + \"way\", end = \" \")\n",
    "    else:\n",
    "        for word in words:\n",
    "            print(word[1:] + word[0] + \"ay\", end = \" \")\n",
    "    print()\n",
    "pig()"
   ]
  },
  {
   "cell_type": "markdown",
   "id": "fe2d1f10",
   "metadata": {},
   "source": [
    "#### Solution 6 Output\n",
    "\n",
    "Input Sentence:happy\n",
    "\n",
    "appyhay \n",
    "\n",
    "\n",
    "\n",
    "Input Sentence:Enter\n",
    "\n",
    "enterway "
   ]
  },
  {
   "cell_type": "markdown",
   "id": "0122f429",
   "metadata": {},
   "source": [
    "===============================================================================================================================\n",
    "\n",
    "#### Question 7 Python\n",
    "\n",
    "File bloodtype1.txt records blood-types of patients (A, B, AB, O OR OO) at a clinic. Write function bldcount() that reads the file with name 'name' and reports (i.e. prints) how many patients there are in each bloodtype."
   ]
  },
  {
   "cell_type": "markdown",
   "id": "eae2f03e",
   "metadata": {},
   "source": [
    "#### Solution 7 Python"
   ]
  },
  {
   "cell_type": "code",
   "execution_count": 25,
   "id": "d479f527",
   "metadata": {},
   "outputs": [
    {
     "name": "stdout",
     "output_type": "stream",
     "text": [
      "There are 15 patients of blood type A\n",
      "There is 1 patient of blood type B\n",
      "There are 13 patients of blood type AB\n",
      "There are 15 patients of blood type O\n",
      "There are no patients of blood type OO\n"
     ]
    }
   ],
   "source": [
    "from varname import nameof\n",
    "\n",
    "def bldcount(txt):\n",
    "    with open(txt) as f:\n",
    "        lines = f.read()\n",
    "    bg = lines.split()\n",
    "    \n",
    "    global a,b,ab,o,oo\n",
    "    a = 0\n",
    "    b = 0\n",
    "    ab = 0\n",
    "    o = 0\n",
    "    oo = 0\n",
    "    for blood in bg:\n",
    "        if blood == 'A' :\n",
    "            a = a+1            \n",
    "        elif blood == 'B':\n",
    "            b = b+1\n",
    "        elif blood == 'AB':\n",
    "            ab = ab+1\n",
    "        elif blood == 'O':\n",
    "            o = o+1\n",
    "        elif blood == 'OO':\n",
    "            oo = oo+1\n",
    "    print(\"There \" + ('is ' if (a==1) else 'are ') + ('no' if (a==0) else str(a)) + (' patient' if (b==1) else ' patients') +\" patients of blood type A\")\n",
    "    print(\"There \" + ('is ' if (b==1) else 'are ' )+ ('no' if (b==0) else str(b)) + (' patient' if (b==1) else ' patients') +\" of blood type B\")\n",
    "    print(\"There \" + ('is ' if (ab==1) else 'are ' )+ ('no' if (ab==0) else str(ab)) + (' patient' if (b==1) else ' patients') +\" patients of blood type AB\")\n",
    "    print(\"There \" + ('is ' if (o==1) else 'are ' )+ ('no' if (o==0) else str(o)) + (' patient' if (b==1) else ' patients') +\" patients of blood type O\")\n",
    "    print(\"There \" + ('is ' if (oo==1) else 'are ' )+ ('no' if (oo==0) else str(oo)) + (' patient' if (b==1) else ' patients') +\" patients of blood type OO\")\n",
    "    \n",
    "bldcount('bloodtype1.txt')"
   ]
  },
  {
   "cell_type": "markdown",
   "id": "4702b993",
   "metadata": {},
   "source": [
    "#### Solution 7 Output\n",
    "\n",
    "There are 15 patients of blood type A\n",
    "\n",
    "There is 1 patient of blood type B\n",
    "\n",
    "There are 13 patients of blood type AB\n",
    "\n",
    "There are 15 patients of blood type O\n",
    "\n",
    "There are no patients of blood type OO"
   ]
  },
  {
   "cell_type": "markdown",
   "id": "23ce0064",
   "metadata": {},
   "source": [
    "===============================================================================================================================\n",
    "\n",
    "#### Question 8 Python\n",
    "\n",
    "Write a function curconv() that takes as input:\n",
    "\n",
    "1. a currency represented using a string (eg, 'JPY' for the Japanese Yen or 'EURO' for the Euro)\n",
    "2. an amount\n",
    "\n",
    "and then converts and returns the amount in US dollars.\n",
    "\n",
    "The currency rates you need are stored in file currencies.txt"
   ]
  },
  {
   "cell_type": "markdown",
   "id": "f28cd103",
   "metadata": {},
   "source": [
    "#### Solution 8 Python"
   ]
  },
  {
   "cell_type": "code",
   "execution_count": null,
   "id": "66dd68c4",
   "metadata": {},
   "outputs": [],
   "source": [
    "currency = \"\"\n",
    "res = int\n",
    "def curconv(cur,amt):\n",
    "    if cur == \"AUD\":\n",
    "        res = 1.0345157*amt\n",
    "        currency = \"Australian Dollar\"\n",
    "    elif cur == \"CHF\":\n",
    "        res =  1.0237414*amt\n",
    "        currency = \"Swiss Franc\"\n",
    "    elif cur == \"CNY\":\n",
    "        res =  0.1550176*amt\n",
    "        currency = \"Chinese Yuan\"\n",
    "    elif cur == \"DKK\":\n",
    "        res =  0.1651442*amt\n",
    "        currency = \"Danish Krone\"\n",
    "    elif cur == \"EUR\":\n",
    "        res =  1.2296544*amt\n",
    "        currency = \"Euro\"\n",
    "    elif cur == \"GBP\":\n",
    "        res =  1.5550989*amt\n",
    "        currency = \"British Pound\"\n",
    "    elif cur == \"HKD\":\n",
    "        res =  0.1270207*amt\n",
    "        currency = \"Hong Kong Dollar\"\n",
    "    elif cur == \"INR\":\n",
    "        res =  0.0177643*amt\n",
    "        currency = \"Indian Rupee\"\n",
    "    elif cur == \"JPY\":\n",
    "        res =  0.01241401*amt\n",
    "        currency = \"Japanese Yen\"\n",
    "    elif cur == \"MXN\":\n",
    "        res =  0.0751848*amt\n",
    "        currency = \"Mexican Peso\"\n",
    "    elif cur == \"MYR\":\n",
    "        res =  0.3145411*amt\n",
    "        currency = \"Malaysian Ringgit\"\n",
    "    elif cur == \"NOK\":\n",
    "        res =  0.1677063*amt\n",
    "        currency = \"Norwegian Krone\"\n",
    "    elif cur == \"NZD\":\n",
    "        res =  0.8003591*amt\n",
    "        currency = \"New Zealand Dollar\"\n",
    "    elif cur == \"PHP\":\n",
    "        res =  0.0233234*amt\n",
    "        currency = \"Philippine Peso\"\n",
    "    elif cur == \"SEK\":\n",
    "        res =  0.148269*amt\n",
    "        currency = \"Swedish Krona\"\n",
    "    elif cur == \"SGD\":\n",
    "        res =  0.788871*amt\n",
    "        currency = \"Singapore Dollar\"\n",
    "    elif cur == \"THB\":\n",
    "        res =  0.0313789*amt\n",
    "        currency = \"Thai Baht\"\n",
    "        \n",
    "    print (str(res))\n",
    "    \n",
    "\n",
    "x = str(input(\"Enter Currency: \"))\n",
    "y = str(input(\"Enter Amount: \"))\n",
    "curconv(x,int(y))\n"
   ]
  },
  {
   "cell_type": "markdown",
   "id": "2ed4f212",
   "metadata": {},
   "source": [
    "#### Solution 8 Output\n",
    "\n",
    "(i)\n",
    "\n",
    "Enter Currency: EUR\n",
    "\n",
    "Enter Amount: 100\n",
    "\n",
    "122.96544\n",
    "\n",
    "\n",
    "\n",
    "\n",
    "\n",
    "(ii)\n",
    "\n",
    "Enter Currency: JPY\n",
    "\n",
    "Enter Amount: 100\n",
    "\n",
    "1.241401\n"
   ]
  },
  {
   "cell_type": "markdown",
   "id": "69f32725",
   "metadata": {},
   "source": [
    "========================================================================================================================\n",
    "\n",
    "#### Question 9 Python\n",
    "\n",
    "Each of the following will cause an exception (an error). Identify what type of exception each will cause"
   ]
  },
  {
   "cell_type": "markdown",
   "id": "33cc7906",
   "metadata": {},
   "source": [
    "a - Trying to add incompatible variables, as in adding 6 + 'a'"
   ]
  },
  {
   "cell_type": "markdown",
   "id": "e6e1e5d3",
   "metadata": {},
   "source": [
    "#### Solution 9 - a"
   ]
  },
  {
   "cell_type": "code",
   "execution_count": null,
   "id": "67afe29a",
   "metadata": {},
   "outputs": [],
   "source": [
    "print(6 + 'a');"
   ]
  },
  {
   "cell_type": "markdown",
   "id": "15874d62",
   "metadata": {},
   "source": [
    "#### Solution 9 - a Output\n",
    "\n",
    "TypeError: unsupported operand type(s) for +: 'int' and 'str'\n"
   ]
  },
  {
   "cell_type": "markdown",
   "id": "cb0a18ae",
   "metadata": {},
   "source": [
    "=========================================================================================================================\n",
    "\n",
    "b- Referring to the 12th item of a list that has only 10 items"
   ]
  },
  {
   "cell_type": "markdown",
   "id": "103aeec7",
   "metadata": {},
   "source": [
    "#### Solution 9 - b"
   ]
  },
  {
   "cell_type": "code",
   "execution_count": null,
   "id": "fed108ed",
   "metadata": {},
   "outputs": [],
   "source": [
    "list = [9, 2, 7, 1, 8, 4, 1, 3, 6, 4]\n",
    "print(list[12]);"
   ]
  },
  {
   "cell_type": "markdown",
   "id": "84bc5395",
   "metadata": {},
   "source": [
    "#### Solution 9 - b Output\n",
    "\n",
    "IndexError: list index out of range"
   ]
  },
  {
   "cell_type": "markdown",
   "id": "9485691b",
   "metadata": {},
   "source": [
    "=======================================================================================================================\n",
    "\n",
    "c- Using a value that is out of range for a function's input, such as calling math.sqrt(-1.0)"
   ]
  },
  {
   "cell_type": "markdown",
   "id": "08a99b0d",
   "metadata": {},
   "source": [
    "#### Solution 9 - c"
   ]
  },
  {
   "cell_type": "code",
   "execution_count": null,
   "id": "404ec132",
   "metadata": {},
   "outputs": [],
   "source": [
    "import math\n",
    "\n",
    "math.sqrt(-1.0)"
   ]
  },
  {
   "cell_type": "markdown",
   "id": "9dab9f58",
   "metadata": {},
   "source": [
    "#### Solution 9 - c Output\n",
    "\n",
    "ValueError: math domain error"
   ]
  },
  {
   "cell_type": "markdown",
   "id": "bea99dda",
   "metadata": {},
   "source": [
    "========================================================================================================================\n",
    "\n",
    "d - Using an undeclared variable, such as print(x) when x has not been defined"
   ]
  },
  {
   "cell_type": "markdown",
   "id": "473230c1",
   "metadata": {},
   "source": [
    "#### Solution 9 - d"
   ]
  },
  {
   "cell_type": "code",
   "execution_count": null,
   "id": "cd7dafef",
   "metadata": {},
   "outputs": [],
   "source": [
    "print(x);"
   ]
  },
  {
   "cell_type": "markdown",
   "id": "6b5e7965",
   "metadata": {},
   "source": [
    "#### Solution 9 - d Output\n",
    "\n",
    "NameError: name 'x' is not defined"
   ]
  },
  {
   "cell_type": "markdown",
   "id": "b04a5ad6",
   "metadata": {},
   "source": [
    "========================================================================================================================\n",
    "\n",
    "e - Trying to open a file that does not exist, such as mistyping the file name or looking in the wrong directory."
   ]
  },
  {
   "cell_type": "code",
   "execution_count": null,
   "id": "42ff381f",
   "metadata": {},
   "outputs": [],
   "source": [
    "f = open(\"test.txt\")\n",
    "f.close()"
   ]
  },
  {
   "cell_type": "markdown",
   "id": "3bdd626d",
   "metadata": {},
   "source": [
    "#### Solution 9 - e Output\n",
    "\n",
    "FileNotFoundError: [Errno 2] No such file or directory: 'test.txt'"
   ]
  },
  {
   "cell_type": "markdown",
   "id": "1321d4ab",
   "metadata": {},
   "source": [
    "===============================================================================================================================\n",
    "\n",
    "#### Question 10 Python\n",
    "\n",
    "Assume that string of letters is already defined as 'abcdefghijklmnopqrstuvwxyz'. Write a function called frequencies() that takes a string as its only parameter, and returns a list of integers, showing the number of times each character appears in the text. Your function may ignore any characters that are not in letters"
   ]
  },
  {
   "cell_type": "markdown",
   "id": "ea503d32",
   "metadata": {},
   "source": [
    "#### Solution 10 Python"
   ]
  },
  {
   "cell_type": "code",
   "execution_count": null,
   "id": "c83afb80",
   "metadata": {},
   "outputs": [],
   "source": [
    "def frequencies(word):\n",
    "  alphabets = \"abcdefghijklmnopqrstuvwqyz\"\n",
    "  counts = []\n",
    "  for letter in alphabets:\n",
    "    count = word.count(letter)\n",
    "    counts.append(count)\n",
    "  print(counts)   \n",
    "    \n",
    "frequencies(\"The quick red fox got bored and went home.\")\n",
    "frequencies(\"apple\")"
   ]
  },
  {
   "cell_type": "markdown",
   "id": "094132b7",
   "metadata": {},
   "source": [
    "#### Solution 10 Output\n",
    "\n",
    "[1, 1, 1, 3, 5, 1, 1, 2, 1, 0, 1, 0, 1, 2, 4, 0, 1, 2, 0, 2, 1, 0, 1, 1, 0, 0]\n",
    "\n",
    "[1, 0, 0, 0, 1, 0, 0, 0, 0, 0, 0, 1, 0, 0, 0, 2, 0, 0, 0, 0, 0, 0, 0, 0, 0, 0]"
   ]
  },
  {
   "cell_type": "code",
   "execution_count": null,
   "id": "d707db02",
   "metadata": {},
   "outputs": [],
   "source": []
  }
 ],
 "metadata": {
  "kernelspec": {
   "display_name": "Python 3 (ipykernel)",
   "language": "python",
   "name": "python3"
  },
  "language_info": {
   "codemirror_mode": {
    "name": "ipython",
    "version": 3
   },
   "file_extension": ".py",
   "mimetype": "text/x-python",
   "name": "python",
   "nbconvert_exporter": "python",
   "pygments_lexer": "ipython3",
   "version": "3.9.12"
  }
 },
 "nbformat": 4,
 "nbformat_minor": 5
}
