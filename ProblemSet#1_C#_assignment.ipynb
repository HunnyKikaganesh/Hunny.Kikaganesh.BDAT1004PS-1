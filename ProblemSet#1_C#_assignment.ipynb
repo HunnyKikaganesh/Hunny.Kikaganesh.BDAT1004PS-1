{
 "cells": [
  {
   "cell_type": "markdown",
   "id": "79f22cde",
   "metadata": {},
   "source": [
    "## Problem Set 1"
   ]
  },
  {
   "cell_type": "markdown",
   "id": "f9530963",
   "metadata": {},
   "source": [
    "### Question 1 C#\n",
    "#### What data type is each of the following ?\n",
    "\n",
    "1) 5 \n",
    "\n",
    "\n",
    "2) 5.0\n",
    "\n",
    "3) 5 > 1\n",
    "\n",
    "4) '5'\n",
    "\n",
    "5) 5 * 2\n",
    "\n",
    "6) '5' * 2\n",
    "\n",
    "7) '5' + '2'\n",
    "\n",
    "8) 5 / 2\n",
    "\n",
    "9) 5 % 2\n",
    "\n",
    "10) { 5, 2, 1 }\n",
    "\n",
    "11) 5 == 3\n",
    "\n",
    "12) Pi { the number }"
   ]
  },
  {
   "cell_type": "markdown",
   "id": "e5a123ad",
   "metadata": {},
   "source": [
    "### Solution 1 C#\n",
    "1)   5                  -> integer\n",
    "\n",
    "2)   5.0                -> float\n",
    "\n",
    "3)   5 > 1              -> boolean   \n",
    "\n",
    "4)   '5'                -> char\n",
    "\n",
    "5)   5 * 2              -> integer\n",
    "\n",
    "6)   '5' * 2            -> integer \n",
    "\n",
    "7)   '5' + '2'          -> integer\n",
    "\n",
    "8)   5 / 2              -> float\n",
    "\n",
    "9)   5 % 2              -> integer\n",
    "\n",
    "10)   { 5, 2, 1 }        -> object   \n",
    "\n",
    "11)  5 == 3            -> boolean\n",
    "\n",
    "12)  Pi { the number } -> double"
   ]
  },
  {
   "cell_type": "markdown",
   "id": "c9a61491",
   "metadata": {},
   "source": [
    "========================================================================================================================\n",
    "\n",
    "### Question 2 C#\n",
    "#### Write and evaluate C# expressions that answer this questions:\n"
   ]
  },
  {
   "cell_type": "markdown",
   "id": "8f3b19b8",
   "metadata": {},
   "source": [
    "#### a. How many letters are there in \"Supercalifragilisticexpialidocious\""
   ]
  },
  {
   "cell_type": "markdown",
   "id": "2d52f489",
   "metadata": {},
   "source": [
    "#### Solution 2-a C#"
   ]
  },
  {
   "cell_type": "code",
   "execution_count": 1,
   "id": "5cdb3ba8",
   "metadata": {},
   "outputs": [
    {
     "data": {
      "text/html": [
       "\r\n",
       "<div>\r\n",
       "    <div id='dotnet-interactive-this-cell-12084.Microsoft.DotNet.Interactive.Http.HttpPort' style='display: none'>\r\n",
       "        The below script needs to be able to find the current output cell; this is an easy method to get it.\r\n",
       "    </div>\r\n",
       "    <script type='text/javascript'>\r\n",
       "async function probeAddresses(probingAddresses) {\r\n",
       "    function timeout(ms, promise) {\r\n",
       "        return new Promise(function (resolve, reject) {\r\n",
       "            setTimeout(function () {\r\n",
       "                reject(new Error('timeout'))\r\n",
       "            }, ms)\r\n",
       "            promise.then(resolve, reject)\r\n",
       "        })\r\n",
       "    }\r\n",
       "\r\n",
       "    if (Array.isArray(probingAddresses)) {\r\n",
       "        for (let i = 0; i < probingAddresses.length; i++) {\r\n",
       "\r\n",
       "            let rootUrl = probingAddresses[i];\r\n",
       "\r\n",
       "            if (!rootUrl.endsWith('/')) {\r\n",
       "                rootUrl = `${rootUrl}/`;\r\n",
       "            }\r\n",
       "\r\n",
       "            try {\r\n",
       "                let response = await timeout(1000, fetch(`${rootUrl}discovery`, {\r\n",
       "                    method: 'POST',\r\n",
       "                    cache: 'no-cache',\r\n",
       "                    mode: 'cors',\r\n",
       "                    timeout: 1000,\r\n",
       "                    headers: {\r\n",
       "                        'Content-Type': 'text/plain'\r\n",
       "                    },\r\n",
       "                    body: probingAddresses[i]\r\n",
       "                }));\r\n",
       "\r\n",
       "                if (response.status == 200) {\r\n",
       "                    return rootUrl;\r\n",
       "                }\r\n",
       "            }\r\n",
       "            catch (e) { }\r\n",
       "        }\r\n",
       "    }\r\n",
       "}\r\n",
       "\r\n",
       "function loadDotnetInteractiveApi() {\r\n",
       "    probeAddresses([\"http://10.250.18.172:1002/\", \"http://127.0.0.1:1002/\"])\r\n",
       "        .then((root) => {\r\n",
       "        // use probing to find host url and api resources\r\n",
       "        // load interactive helpers and language services\r\n",
       "        let dotnetInteractiveRequire = require.config({\r\n",
       "        context: '12084.Microsoft.DotNet.Interactive.Http.HttpPort',\r\n",
       "                paths:\r\n",
       "            {\r\n",
       "                'dotnet-interactive': `${root}resources`\r\n",
       "                }\r\n",
       "        }) || require;\r\n",
       "\r\n",
       "            window.dotnetInteractiveRequire = dotnetInteractiveRequire;\r\n",
       "\r\n",
       "            window.configureRequireFromExtension = function(extensionName, extensionCacheBuster) {\r\n",
       "                let paths = {};\r\n",
       "                paths[extensionName] = `${root}extensions/${extensionName}/resources/`;\r\n",
       "                \r\n",
       "                let internalRequire = require.config({\r\n",
       "                    context: extensionCacheBuster,\r\n",
       "                    paths: paths,\r\n",
       "                    urlArgs: `cacheBuster=${extensionCacheBuster}`\r\n",
       "                    }) || require;\r\n",
       "\r\n",
       "                return internalRequire\r\n",
       "            };\r\n",
       "        \r\n",
       "            dotnetInteractiveRequire([\r\n",
       "                    'dotnet-interactive/dotnet-interactive'\r\n",
       "                ],\r\n",
       "                function (dotnet) {\r\n",
       "                    dotnet.init(window);\r\n",
       "                },\r\n",
       "                function (error) {\r\n",
       "                    console.log(error);\r\n",
       "                }\r\n",
       "            );\r\n",
       "        })\r\n",
       "        .catch(error => {console.log(error);});\r\n",
       "    }\r\n",
       "\r\n",
       "// ensure `require` is available globally\r\n",
       "if ((typeof(require) !==  typeof(Function)) || (typeof(require.config) !== typeof(Function))) {\r\n",
       "    let require_script = document.createElement('script');\r\n",
       "    require_script.setAttribute('src', 'https://cdnjs.cloudflare.com/ajax/libs/require.js/2.3.6/require.min.js');\r\n",
       "    require_script.setAttribute('type', 'text/javascript');\r\n",
       "    \r\n",
       "    \r\n",
       "    require_script.onload = function() {\r\n",
       "        loadDotnetInteractiveApi();\r\n",
       "    };\r\n",
       "\r\n",
       "    document.getElementsByTagName('head')[0].appendChild(require_script);\r\n",
       "}\r\n",
       "else {\r\n",
       "    loadDotnetInteractiveApi();\r\n",
       "}\r\n",
       "\r\n",
       "    </script>\r\n",
       "</div>"
      ]
     },
     "metadata": {},
     "output_type": "display_data"
    },
    {
     "data": {
      "text/html": [
       "<div class=\"dni-plaintext\">34</div>"
      ]
     },
     "execution_count": 1,
     "metadata": {},
     "output_type": "execute_result"
    }
   ],
   "source": [
    "string word = \"Supercalifragilisticexpialidocious\";\n",
    "int count = 0;\n",
    "foreach (char c in word)\n",
    "{\n",
    "   count++;\n",
    "}\n",
    "return count;"
   ]
  },
  {
   "cell_type": "markdown",
   "id": "89802445",
   "metadata": {},
   "source": [
    "#### Solution 2-a Output:\n",
    "\n",
    "34"
   ]
  },
  {
   "cell_type": "markdown",
   "id": "674f8715",
   "metadata": {},
   "source": [
    "=========================================================================================================================\n",
    "\n",
    "#### b. Does 'Supercalifragilisticexpialidocious' contain 'ice' as a substring"
   ]
  },
  {
   "cell_type": "markdown",
   "id": "1727274b",
   "metadata": {},
   "source": [
    "#### Solution 2-b C#"
   ]
  },
  {
   "cell_type": "code",
   "execution_count": 9,
   "id": "9c3f56f8",
   "metadata": {},
   "outputs": [
    {
     "name": "stdout",
     "output_type": "stream",
     "text": [
      "Yes, Supercalifragilisticexpialidocious contain ice as a substring\r\n"
     ]
    }
   ],
   "source": [
    "string givenString = \"Supercalifragilisticexpialidocious\";\n",
    "string checkString = \"ice\";\n",
    " \n",
    "int occurrence = givenString.Split(checkString).Length - 1;\n",
    "\n",
    "if (occurrence > 0) {\n",
    "    Console.WriteLine($\"Yes, {givenString} contain {checkString} as a substring\");\n",
    "} else {\n",
    "    Console.WriteLine($\"No, {givenString} does not contain {checkString} as a substring\");\n",
    "}"
   ]
  },
  {
   "cell_type": "markdown",
   "id": "fbb40e1b",
   "metadata": {},
   "source": [
    "#### Solution 2-b Output:\n",
    "\n",
    "Yes, Supercalifragilisticexpialidocious contain ice as a substring"
   ]
  },
  {
   "cell_type": "markdown",
   "id": "e753acab",
   "metadata": {},
   "source": [
    "=========================================================================================================================\n",
    "\n",
    "#### c. Which of the following words is the longest: Supercalifragilisticexpialidocious, Honorificabilitudinitatibus, Bababadalgharaghtakamminarronnkonn"
   ]
  },
  {
   "cell_type": "markdown",
   "id": "36911df8",
   "metadata": {},
   "source": [
    "#### Solution 2-c C#"
   ]
  },
  {
   "cell_type": "code",
   "execution_count": 2,
   "id": "e5e8a8da",
   "metadata": {},
   "outputs": [
    {
     "name": "stdout",
     "output_type": "stream",
     "text": [
      "Bababadalgharaghtakamminarronnkonn\n",
      "Supercalifragilisticexpialidocious\n"
     ]
    }
   ],
   "source": [
    "string line = \"Supercalifragilisticexpialidocious, Honorificabilitudinitatibus, Bababadalgharaghtakamminarronnkonn\";\n",
    "string[] words = line.Split(new[] { \", \" }, StringSplitOptions.None);\n",
    "string word = \"\";\n",
    "int ctr = 0;\n",
    "\n",
    "Array.Sort(words);\n",
    "List<string> myList = new List<string>();\n",
    "foreach (String s in words)\n",
    "{\n",
    "    if (s.Length >= ctr)\n",
    "    {\n",
    "        word = s;\n",
    "        ctr = s.Length;\n",
    "        myList.Add(s);\n",
    "    }\n",
    "}\n",
    "\n",
    "foreach (var item in myList)\n",
    "{\n",
    "    Console.WriteLine(item);\n",
    "}"
   ]
  },
  {
   "cell_type": "markdown",
   "id": "09f526e9",
   "metadata": {},
   "source": [
    "#### Solution 2-c Output\n",
    "\n",
    "Bababadalgharaghtakamminarronnkonn\n",
    "\n",
    "Supercalifragilisticexpialidocious"
   ]
  },
  {
   "cell_type": "markdown",
   "id": "bf78c7b2",
   "metadata": {},
   "source": [
    "=========================================================================================================================\n",
    "\n",
    "#### d. Which composer comes first in the dictionary: 'Beriloz', 'Borodin', 'Brian', 'Bartok', 'Bellini', 'Buxtehude', 'Bernstein'. Which one comes last?"
   ]
  },
  {
   "cell_type": "markdown",
   "id": "9ec3014e",
   "metadata": {},
   "source": [
    "#### Solution 2-d C#"
   ]
  },
  {
   "cell_type": "code",
   "execution_count": 4,
   "id": "aa8e80b2",
   "metadata": {},
   "outputs": [
    {
     "name": "stdout",
     "output_type": "stream",
     "text": [
      "First Composer in the dictionary: Bartok\n",
      "Last Composer in the dictionary: Buxtehude\n"
     ]
    }
   ],
   "source": [
    "String[] dictionaryNames = {\"Belioz\", \"Borodin\", \"Brian\", \"Bartok\", \"Bellini\", \"Buxtehude\", \"Bernstein\"};\n",
    "\n",
    "Array.Sort(dictionaryNames);\n",
    "\n",
    "Console.WriteLine(\"First Composer in the dictionary: {0}\", dictionaryNames[0]);\n",
    "Console.WriteLine(\"Last Composer in the dictionary: {0}\", dictionaryNames[dictionaryNames.Length - 1]);"
   ]
  },
  {
   "cell_type": "markdown",
   "id": "8ad563dd",
   "metadata": {},
   "source": [
    "#### Solution 2-d Output\n",
    "\n",
    "First Composer in the dictionary: Bartok\n",
    "\n",
    "Last Composer in the dictionary: Buxtehude"
   ]
  },
  {
   "cell_type": "markdown",
   "id": "a70a4a12",
   "metadata": {},
   "source": [
    "===============================================================================================================================\n",
    "\n",
    "### Question 3 C#\n",
    "#### Implement function triangleArea(a, b, c) that takes as input the length of the 3 sides of a triangle and returns the area of the triangle using Heron's formula."
   ]
  },
  {
   "cell_type": "markdown",
   "id": "20996f27",
   "metadata": {},
   "source": [
    "#### Solution 3 C#"
   ]
  },
  {
   "cell_type": "code",
   "execution_count": 10,
   "id": "ff70ef0c",
   "metadata": {},
   "outputs": [
    {
     "name": "stdout",
     "output_type": "stream",
     "text": [
      "1.7320508075688772\r\n"
     ]
    }
   ],
   "source": [
    "static void triangleArea(int a, int b, int c)\n",
    "{\n",
    "     double s = (a + b + c) / 2;\n",
    "     double Area = Math.Sqrt(s * (s - a) * (s - b) * (s - c));\n",
    "     Console.WriteLine(Area);\n",
    "}\n",
    "\n",
    "triangleArea(2, 2, 2);"
   ]
  },
  {
   "cell_type": "markdown",
   "id": "52927455",
   "metadata": {},
   "source": [
    "#### Solution 3 Output\n",
    "\n",
    "1.7320508075688772"
   ]
  },
  {
   "cell_type": "markdown",
   "id": "7849a5a8",
   "metadata": {},
   "source": [
    "===============================================================================================================================\n",
    "\n",
    "### Question 4 C#\n",
    "\n",
    "#### Write a programm in C# Sharp to separate odd and even integers in separate arrays.\n",
    "#### Go to the editor\n",
    "\n",
    "#### Test Data:\n",
    "#### Input the number of elements to be stored in the array: 5\n",
    "#### Input 5 elements in the array:\n",
    "#### element - 0 : 25\n",
    "#### element - 1 : 47\n",
    "#### element - 2 : 42\n",
    "#### element - 3 : 56\n",
    "#### element - 4 : 32"
   ]
  },
  {
   "cell_type": "markdown",
   "id": "f0303b46",
   "metadata": {},
   "source": [
    "#### Solution 4 C#"
   ]
  },
  {
   "cell_type": "code",
   "execution_count": 6,
   "id": "37baa41d",
   "metadata": {},
   "outputs": [
    {
     "name": "stdout",
     "output_type": "stream",
     "text": [
      "The Even elements are:\n",
      "42\n",
      "56\n",
      "32\n",
      "The Odd elements are:\n",
      "25\n",
      "47\n"
     ]
    }
   ],
   "source": [
    "int[] numberArray = new int[] {25, 47, 42, 56, 32};\n",
    "int[] evenArray = new int[5];\n",
    "int[] oddArray = new int[5];\n",
    "\n",
    "int i, j = 0, k = 0;\n",
    "\n",
    "for (i = 0; i < 5; i++) {\n",
    "    if (numberArray[i] % 2 == 0) {\n",
    "       evenArray[j] = numberArray[i];\n",
    "       j++;\n",
    "    } else {\n",
    "       oddArray[k] = numberArray[i];\n",
    "       k++;\n",
    "    }\n",
    "}\n",
    "Console.WriteLine(\"The Even elements are:\");\n",
    "for (i = 0; i < j; i++) {\n",
    "  Console.WriteLine(evenArray[i]);\n",
    "}\n",
    "Console.WriteLine(\"The Odd elements are:\");\n",
    "for (i = 0; i < k; i++) {\n",
    "    Console.WriteLine(oddArray[i]);\n",
    "}"
   ]
  },
  {
   "cell_type": "markdown",
   "id": "ce333746",
   "metadata": {},
   "source": [
    "#### Solution 4 Output:\n",
    "\n",
    "The Even elements are:\n",
    "\n",
    "42\n",
    "\n",
    "56\n",
    "\n",
    "32\n",
    "\n",
    "The Odd elements are:\n",
    "\n",
    "25\n",
    "\n",
    "47"
   ]
  },
  {
   "cell_type": "markdown",
   "id": "848a6156",
   "metadata": {},
   "source": [
    "============================================================================================================================\n",
    "\n",
    "### Question 5 C#\n",
    "#### a. Write a function inside(x,y,x1,x2,y1,y2) that returns true or false depending on whether the point (x,y) lies in the rectangle with lower left corner (x1,y1) and upper right corner (x2,y2)."
   ]
  },
  {
   "cell_type": "markdown",
   "id": "d2f0c31a",
   "metadata": {},
   "source": [
    "#### Solution 5-a C#"
   ]
  },
  {
   "cell_type": "code",
   "execution_count": 5,
   "id": "1c5a46cd",
   "metadata": {
    "scrolled": true
   },
   "outputs": [
    {
     "name": "stdout",
     "output_type": "stream",
     "text": [
      "True\n",
      "False\n"
     ]
    }
   ],
   "source": [
    "static bool inside(int x, int y, int x1, int y1, int x2, int y2) \n",
    "{\n",
    "    if (x >= x1 && x <= x2 && y >= y1 && y <= y2) \n",
    "    {\n",
    "        Console.WriteLine(\"True\");\n",
    "        return true;\n",
    "    } \n",
    "    else \n",
    "    {\n",
    "        Console.WriteLine(\"False\");\n",
    "        return false;\n",
    "    }\n",
    "}\n",
    "\n",
    "inside(1, 1, 0, 0, 2, 3);\n",
    "inside(-1, -1, 0, 0, 2, 3);"
   ]
  },
  {
   "cell_type": "markdown",
   "id": "560d2d7c",
   "metadata": {},
   "source": [
    "#### Solution 5-a Output\n",
    "\n",
    "True\n",
    "\n",
    "False"
   ]
  },
  {
   "cell_type": "markdown",
   "id": "04984fd8",
   "metadata": {},
   "source": [
    "========================================================================================================================\n",
    "\n",
    "#### b. Use function inside() from part a. to write an expression that tests whether the point (1,1) lies in both of the following rectangles: one with lower left corner (0.3, 0.5) and upper right corner (1.1, 0.7) and the other with lower left corner (0.5, 0.2) and upper right corner (1.1, 2)"
   ]
  },
  {
   "cell_type": "markdown",
   "id": "32000dd2",
   "metadata": {},
   "source": [
    "#### Solution 5-b C#"
   ]
  },
  {
   "cell_type": "code",
   "execution_count": 6,
   "id": "8c4c5e4a",
   "metadata": {},
   "outputs": [
    {
     "name": "stdout",
     "output_type": "stream",
     "text": [
      "False\n",
      "True\n"
     ]
    }
   ],
   "source": [
    "static bool inside(double x, double y, double x1, double y1, double x2, double y2) \n",
    "{\n",
    "    if (x >= x1 && x <= x2 && y >= y1 && y <= y2) \n",
    "    {\n",
    "        Console.WriteLine(\"True\");\n",
    "        return true;\n",
    "    } \n",
    "    else \n",
    "    {\n",
    "        Console.WriteLine(\"False\");\n",
    "        return false;\n",
    "    }\n",
    "}\n",
    "\n",
    "inside(1, 1, 0.3, 0.5, 1.1, 0.7);\n",
    "inside(1, 1, 0.5, 0.2, 1.1, 2);"
   ]
  },
  {
   "cell_type": "raw",
   "id": "ff95206e",
   "metadata": {},
   "source": [
    "#### Solution 5-b Output\n",
    "\n",
    "False\n",
    "\n",
    "True"
   ]
  },
  {
   "cell_type": "code",
   "execution_count": null,
   "id": "f227d817",
   "metadata": {},
   "outputs": [],
   "source": []
  }
 ],
 "metadata": {
  "kernelspec": {
   "display_name": ".NET (C#)",
   "language": "C#",
   "name": ".net-csharp"
  },
  "language_info": {
   "file_extension": ".cs",
   "mimetype": "text/x-csharp",
   "name": "C#",
   "pygments_lexer": "csharp",
   "version": "8.0"
  }
 },
 "nbformat": 4,
 "nbformat_minor": 5
}
